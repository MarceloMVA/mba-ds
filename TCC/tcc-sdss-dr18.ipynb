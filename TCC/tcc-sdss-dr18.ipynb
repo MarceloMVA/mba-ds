{
 "cells": [
  {
   "cell_type": "markdown",
   "id": "0d056d98",
   "metadata": {},
   "source": [
    "# Determinação de Classes de Objetos Astronômicos "
   ]
  },
  {
   "cell_type": "markdown",
   "id": "e7e77715",
   "metadata": {},
   "source": [
    "# Introdução"
   ]
  },
  {
   "cell_type": "markdown",
   "id": "8bae3386",
   "metadata": {
    "papermill": {
     "duration": 0.007642,
     "end_time": "2023-10-02T23:26:52.837768",
     "exception": false,
     "start_time": "2023-10-02T23:26:52.830126",
     "status": "completed"
    },
    "tags": []
   },
   "source": [
    "**Sloan Digital Sky Survey - DR18**\n",
    "\n",
    "Neste projeto de Machine Learning classificaremos as observações do Data Release (DR) 18 do Sloan Digital Sky Survey (SDSS). <br>\n",
    "Cada observação é descrita por 42 características e 1 coluna *classe* que identifica a observação como:\n",
    "* estrela\n",
    "* galáxia\n",
    "* QSO (Quasi-Stellar Object) ou um Quasar.\n",
    "\n"
   ]
  },
  {
   "cell_type": "markdown",
   "id": "748fcb7b",
   "metadata": {
    "papermill": {
     "duration": 0.007038,
     "end_time": "2023-10-02T23:26:52.852207",
     "exception": false,
     "start_time": "2023-10-02T23:26:52.845169",
     "status": "completed"
    },
    "tags": []
   },
   "source": [
    "## Etapa 1 - Pacotes necessários"
   ]
  },
  {
   "cell_type": "code",
   "execution_count": 1,
   "id": "8d3288dd",
   "metadata": {
    "execution": {
     "iopub.execute_input": "2023-10-02T23:26:52.869405Z",
     "iopub.status.busy": "2023-10-02T23:26:52.868638Z",
     "iopub.status.idle": "2023-10-02T23:26:55.371146Z",
     "shell.execute_reply": "2023-10-02T23:26:55.370068Z"
    },
    "papermill": {
     "duration": 2.514187,
     "end_time": "2023-10-02T23:26:55.373833",
     "exception": false,
     "start_time": "2023-10-02T23:26:52.859646",
     "status": "completed"
    },
    "tags": []
   },
   "outputs": [
    {
     "name": "stderr",
     "output_type": "stream",
     "text": [
      "C:\\Users\\MVA\\AppData\\Roaming\\Python\\Python39\\site-packages\\matplotlib\\projections\\__init__.py:63: UserWarning: Unable to import Axes3D. This may be due to multiple versions of Matplotlib being installed (e.g. as a system package and as a pip package). As a result, the 3D projection is not available.\n",
      "  warnings.warn(\"Unable to import Axes3D. This may be due to multiple versions of \"\n"
     ]
    }
   ],
   "source": [
    "import pandas as pd\n",
    "import seaborn as sns\n",
    "import matplotlib.pyplot as plt\n",
    "\n",
    "from sklearn.preprocessing import LabelEncoder, MinMaxScaler\n",
    "from sklearn.model_selection import train_test_split\n",
    "from sklearn.metrics import accuracy_score\n",
    "\n",
    "from sklearn.linear_model import LogisticRegression\n",
    "from sklearn.tree import DecisionTreeClassifier\n",
    "from sklearn.svm import SVC\n",
    "from sklearn.naive_bayes import GaussianNB\n",
    "from sklearn.neighbors import KNeighborsClassifier\n",
    "\n",
    "from xgboost import XGBClassifier, plot_importance\n",
    "\n",
    "import operator\n",
    "\n",
    "%matplotlib inline\n",
    "\n",
    "import warnings\n",
    "warnings.filterwarnings(\"ignore\")"
   ]
  },
  {
   "cell_type": "markdown",
   "id": "92974aef",
   "metadata": {
    "papermill": {
     "duration": 0.007338,
     "end_time": "2023-10-02T23:26:55.389579",
     "exception": false,
     "start_time": "2023-10-02T23:26:55.382241",
     "status": "completed"
    },
    "tags": []
   },
   "source": [
    "## Etapa 2 - Carregando dados"
   ]
  },
  {
   "cell_type": "code",
   "execution_count": 2,
   "id": "882d290d",
   "metadata": {
    "execution": {
     "iopub.execute_input": "2023-10-02T23:26:55.406808Z",
     "iopub.status.busy": "2023-10-02T23:26:55.406022Z",
     "iopub.status.idle": "2023-10-02T23:26:56.478043Z",
     "shell.execute_reply": "2023-10-02T23:26:56.476938Z"
    },
    "papermill": {
     "duration": 1.083285,
     "end_time": "2023-10-02T23:26:56.480438",
     "exception": false,
     "start_time": "2023-10-02T23:26:55.397153",
     "status": "completed"
    },
    "tags": []
   },
   "outputs": [],
   "source": [
    "# Carga do arquivo\n",
    "df = pd.read_csv('SDSS_DR18.csv')"
   ]
  },
  {
   "cell_type": "code",
   "execution_count": 3,
   "id": "a1c05493",
   "metadata": {},
   "outputs": [],
   "source": [
    "#Prepara os grids para apresentar todas colunas, quando solicitidao\n",
    "pd.options.display.max_columns = df.shape[1]"
   ]
  },
  {
   "cell_type": "code",
   "execution_count": 4,
   "id": "1e600e90",
   "metadata": {},
   "outputs": [
    {
     "data": {
      "text/html": [
       "<div>\n",
       "<style scoped>\n",
       "    .dataframe tbody tr th:only-of-type {\n",
       "        vertical-align: middle;\n",
       "    }\n",
       "\n",
       "    .dataframe tbody tr th {\n",
       "        vertical-align: top;\n",
       "    }\n",
       "\n",
       "    .dataframe thead th {\n",
       "        text-align: right;\n",
       "    }\n",
       "</style>\n",
       "<table border=\"1\" class=\"dataframe\">\n",
       "  <thead>\n",
       "    <tr style=\"text-align: right;\">\n",
       "      <th></th>\n",
       "      <th>u</th>\n",
       "      <th>g</th>\n",
       "      <th>r</th>\n",
       "      <th>i</th>\n",
       "      <th>z</th>\n",
       "      <th>petroRad_u</th>\n",
       "      <th>petroRad_g</th>\n",
       "      <th>petroRad_i</th>\n",
       "      <th>petroRad_r</th>\n",
       "      <th>petroRad_z</th>\n",
       "      <th>petroFlux_u</th>\n",
       "      <th>petroFlux_g</th>\n",
       "      <th>petroFlux_i</th>\n",
       "      <th>petroFlux_r</th>\n",
       "      <th>petroFlux_z</th>\n",
       "      <th>petroR50_u</th>\n",
       "      <th>petroR50_g</th>\n",
       "      <th>petroR50_i</th>\n",
       "      <th>petroR50_r</th>\n",
       "      <th>petroR50_z</th>\n",
       "      <th>psfMag_u</th>\n",
       "      <th>psfMag_r</th>\n",
       "      <th>psfMag_g</th>\n",
       "      <th>psfMag_i</th>\n",
       "      <th>psfMag_z</th>\n",
       "      <th>expAB_u</th>\n",
       "      <th>expAB_g</th>\n",
       "      <th>expAB_r</th>\n",
       "      <th>expAB_i</th>\n",
       "      <th>expAB_z</th>\n",
       "      <th>redshift</th>\n",
       "      <th>class</th>\n",
       "    </tr>\n",
       "  </thead>\n",
       "  <tbody>\n",
       "    <tr>\n",
       "      <th>0</th>\n",
       "      <td>18.87062</td>\n",
       "      <td>17.59612</td>\n",
       "      <td>17.11245</td>\n",
       "      <td>16.83899</td>\n",
       "      <td>16.70908</td>\n",
       "      <td>7.282402</td>\n",
       "      <td>7.004576</td>\n",
       "      <td>6.855976</td>\n",
       "      <td>7.112749</td>\n",
       "      <td>6.930960</td>\n",
       "      <td>30.66393</td>\n",
       "      <td>95.11749</td>\n",
       "      <td>181.718400</td>\n",
       "      <td>146.991600</td>\n",
       "      <td>207.027300</td>\n",
       "      <td>3.832911</td>\n",
       "      <td>3.659077</td>\n",
       "      <td>3.486617</td>\n",
       "      <td>3.621753</td>\n",
       "      <td>3.606744</td>\n",
       "      <td>21.11891</td>\n",
       "      <td>19.50324</td>\n",
       "      <td>19.96352</td>\n",
       "      <td>19.25145</td>\n",
       "      <td>19.05230</td>\n",
       "      <td>0.479021</td>\n",
       "      <td>0.518483</td>\n",
       "      <td>0.520474</td>\n",
       "      <td>0.508502</td>\n",
       "      <td>0.488969</td>\n",
       "      <td>0.041691</td>\n",
       "      <td>GALAXY</td>\n",
       "    </tr>\n",
       "    <tr>\n",
       "      <th>1</th>\n",
       "      <td>19.59560</td>\n",
       "      <td>19.92153</td>\n",
       "      <td>20.34448</td>\n",
       "      <td>20.66213</td>\n",
       "      <td>20.59599</td>\n",
       "      <td>1.335305</td>\n",
       "      <td>1.321027</td>\n",
       "      <td>1.167182</td>\n",
       "      <td>1.266144</td>\n",
       "      <td>0.966431</td>\n",
       "      <td>14.55308</td>\n",
       "      <td>10.33474</td>\n",
       "      <td>4.623398</td>\n",
       "      <td>7.371214</td>\n",
       "      <td>4.824737</td>\n",
       "      <td>0.653159</td>\n",
       "      <td>0.659008</td>\n",
       "      <td>0.536881</td>\n",
       "      <td>0.650679</td>\n",
       "      <td>0.538456</td>\n",
       "      <td>19.58945</td>\n",
       "      <td>20.34491</td>\n",
       "      <td>19.92417</td>\n",
       "      <td>20.65535</td>\n",
       "      <td>20.57387</td>\n",
       "      <td>0.573926</td>\n",
       "      <td>0.531728</td>\n",
       "      <td>0.403072</td>\n",
       "      <td>0.999874</td>\n",
       "      <td>0.189495</td>\n",
       "      <td>-0.000814</td>\n",
       "      <td>STAR</td>\n",
       "    </tr>\n",
       "    <tr>\n",
       "      <th>2</th>\n",
       "      <td>19.26421</td>\n",
       "      <td>17.87891</td>\n",
       "      <td>17.09593</td>\n",
       "      <td>16.65159</td>\n",
       "      <td>16.35329</td>\n",
       "      <td>3.874802</td>\n",
       "      <td>3.952013</td>\n",
       "      <td>4.007457</td>\n",
       "      <td>4.057646</td>\n",
       "      <td>3.818449</td>\n",
       "      <td>19.31011</td>\n",
       "      <td>72.75911</td>\n",
       "      <td>220.896700</td>\n",
       "      <td>148.093400</td>\n",
       "      <td>278.021100</td>\n",
       "      <td>1.898399</td>\n",
       "      <td>1.993737</td>\n",
       "      <td>1.944997</td>\n",
       "      <td>1.968584</td>\n",
       "      <td>1.863368</td>\n",
       "      <td>20.82290</td>\n",
       "      <td>18.54832</td>\n",
       "      <td>19.33645</td>\n",
       "      <td>18.16669</td>\n",
       "      <td>17.78844</td>\n",
       "      <td>0.701666</td>\n",
       "      <td>0.743386</td>\n",
       "      <td>0.770897</td>\n",
       "      <td>0.778642</td>\n",
       "      <td>0.736771</td>\n",
       "      <td>0.113069</td>\n",
       "      <td>GALAXY</td>\n",
       "    </tr>\n",
       "    <tr>\n",
       "      <th>3</th>\n",
       "      <td>19.49739</td>\n",
       "      <td>17.96166</td>\n",
       "      <td>17.41269</td>\n",
       "      <td>17.20545</td>\n",
       "      <td>17.11567</td>\n",
       "      <td>1.251496</td>\n",
       "      <td>1.325716</td>\n",
       "      <td>1.176959</td>\n",
       "      <td>1.281164</td>\n",
       "      <td>1.199375</td>\n",
       "      <td>15.33828</td>\n",
       "      <td>62.74539</td>\n",
       "      <td>125.370700</td>\n",
       "      <td>104.867200</td>\n",
       "      <td>134.623300</td>\n",
       "      <td>0.633329</td>\n",
       "      <td>0.679328</td>\n",
       "      <td>0.611904</td>\n",
       "      <td>0.657945</td>\n",
       "      <td>0.622971</td>\n",
       "      <td>19.49706</td>\n",
       "      <td>17.42272</td>\n",
       "      <td>17.96176</td>\n",
       "      <td>17.21564</td>\n",
       "      <td>17.12367</td>\n",
       "      <td>0.999818</td>\n",
       "      <td>0.787760</td>\n",
       "      <td>0.745611</td>\n",
       "      <td>0.399718</td>\n",
       "      <td>0.986137</td>\n",
       "      <td>0.000087</td>\n",
       "      <td>STAR</td>\n",
       "    </tr>\n",
       "    <tr>\n",
       "      <th>4</th>\n",
       "      <td>18.31519</td>\n",
       "      <td>16.83033</td>\n",
       "      <td>16.26352</td>\n",
       "      <td>16.06320</td>\n",
       "      <td>15.97527</td>\n",
       "      <td>1.365736</td>\n",
       "      <td>1.336521</td>\n",
       "      <td>1.161740</td>\n",
       "      <td>1.266766</td>\n",
       "      <td>1.239413</td>\n",
       "      <td>45.91689</td>\n",
       "      <td>178.20720</td>\n",
       "      <td>359.093500</td>\n",
       "      <td>300.775600</td>\n",
       "      <td>388.320300</td>\n",
       "      <td>0.677250</td>\n",
       "      <td>0.680561</td>\n",
       "      <td>0.613476</td>\n",
       "      <td>0.655520</td>\n",
       "      <td>0.640669</td>\n",
       "      <td>18.33505</td>\n",
       "      <td>16.28580</td>\n",
       "      <td>16.85104</td>\n",
       "      <td>16.08275</td>\n",
       "      <td>15.98694</td>\n",
       "      <td>0.999795</td>\n",
       "      <td>0.834450</td>\n",
       "      <td>0.723526</td>\n",
       "      <td>0.712259</td>\n",
       "      <td>0.527055</td>\n",
       "      <td>0.000018</td>\n",
       "      <td>STAR</td>\n",
       "    </tr>\n",
       "  </tbody>\n",
       "</table>\n",
       "</div>"
      ],
      "text/plain": [
       "          u         g         r         i         z  petroRad_u  petroRad_g  \\\n",
       "0  18.87062  17.59612  17.11245  16.83899  16.70908    7.282402    7.004576   \n",
       "1  19.59560  19.92153  20.34448  20.66213  20.59599    1.335305    1.321027   \n",
       "2  19.26421  17.87891  17.09593  16.65159  16.35329    3.874802    3.952013   \n",
       "3  19.49739  17.96166  17.41269  17.20545  17.11567    1.251496    1.325716   \n",
       "4  18.31519  16.83033  16.26352  16.06320  15.97527    1.365736    1.336521   \n",
       "\n",
       "   petroRad_i  petroRad_r  petroRad_z  petroFlux_u  petroFlux_g  petroFlux_i  \\\n",
       "0    6.855976    7.112749    6.930960     30.66393     95.11749   181.718400   \n",
       "1    1.167182    1.266144    0.966431     14.55308     10.33474     4.623398   \n",
       "2    4.007457    4.057646    3.818449     19.31011     72.75911   220.896700   \n",
       "3    1.176959    1.281164    1.199375     15.33828     62.74539   125.370700   \n",
       "4    1.161740    1.266766    1.239413     45.91689    178.20720   359.093500   \n",
       "\n",
       "   petroFlux_r  petroFlux_z  petroR50_u  petroR50_g  petroR50_i  petroR50_r  \\\n",
       "0   146.991600   207.027300    3.832911    3.659077    3.486617    3.621753   \n",
       "1     7.371214     4.824737    0.653159    0.659008    0.536881    0.650679   \n",
       "2   148.093400   278.021100    1.898399    1.993737    1.944997    1.968584   \n",
       "3   104.867200   134.623300    0.633329    0.679328    0.611904    0.657945   \n",
       "4   300.775600   388.320300    0.677250    0.680561    0.613476    0.655520   \n",
       "\n",
       "   petroR50_z  psfMag_u  psfMag_r  psfMag_g  psfMag_i  psfMag_z   expAB_u  \\\n",
       "0    3.606744  21.11891  19.50324  19.96352  19.25145  19.05230  0.479021   \n",
       "1    0.538456  19.58945  20.34491  19.92417  20.65535  20.57387  0.573926   \n",
       "2    1.863368  20.82290  18.54832  19.33645  18.16669  17.78844  0.701666   \n",
       "3    0.622971  19.49706  17.42272  17.96176  17.21564  17.12367  0.999818   \n",
       "4    0.640669  18.33505  16.28580  16.85104  16.08275  15.98694  0.999795   \n",
       "\n",
       "    expAB_g   expAB_r   expAB_i   expAB_z  redshift   class  \n",
       "0  0.518483  0.520474  0.508502  0.488969  0.041691  GALAXY  \n",
       "1  0.531728  0.403072  0.999874  0.189495 -0.000814    STAR  \n",
       "2  0.743386  0.770897  0.778642  0.736771  0.113069  GALAXY  \n",
       "3  0.787760  0.745611  0.399718  0.986137  0.000087    STAR  \n",
       "4  0.834450  0.723526  0.712259  0.527055  0.000018    STAR  "
      ]
     },
     "execution_count": 4,
     "metadata": {},
     "output_type": "execute_result"
    }
   ],
   "source": [
    "# remover colunas desnecessárias, como ID dos registros e identificadores dos instrumentos\n",
    "df = df.drop(['objid', 'specobjid', 'ra', 'dec', 'camcol', 'run', 'rerun', 'field', 'plate', 'mjd', 'fiberid'], axis=1)\n",
    "df.head()\n"
   ]
  },
  {
   "cell_type": "markdown",
   "id": "2b67ff57",
   "metadata": {
    "papermill": {
     "duration": 0.007408,
     "end_time": "2023-10-02T23:26:56.495479",
     "exception": false,
     "start_time": "2023-10-02T23:26:56.488071",
     "status": "completed"
    },
    "tags": []
   },
   "source": [
    "# Visualização dos dados"
   ]
  },
  {
   "cell_type": "code",
   "execution_count": 5,
   "id": "8eaca4e1",
   "metadata": {
    "execution": {
     "iopub.execute_input": "2023-10-02T23:26:56.511980Z",
     "iopub.status.busy": "2023-10-02T23:26:56.511606Z",
     "iopub.status.idle": "2023-10-02T23:26:56.550387Z",
     "shell.execute_reply": "2023-10-02T23:26:56.549186Z"
    },
    "papermill": {
     "duration": 0.049942,
     "end_time": "2023-10-02T23:26:56.552855",
     "exception": false,
     "start_time": "2023-10-02T23:26:56.502913",
     "status": "completed"
    },
    "tags": []
   },
   "outputs": [
    {
     "data": {
      "text/html": [
       "<div>\n",
       "<style scoped>\n",
       "    .dataframe tbody tr th:only-of-type {\n",
       "        vertical-align: middle;\n",
       "    }\n",
       "\n",
       "    .dataframe tbody tr th {\n",
       "        vertical-align: top;\n",
       "    }\n",
       "\n",
       "    .dataframe thead th {\n",
       "        text-align: right;\n",
       "    }\n",
       "</style>\n",
       "<table border=\"1\" class=\"dataframe\">\n",
       "  <thead>\n",
       "    <tr style=\"text-align: right;\">\n",
       "      <th></th>\n",
       "      <th>u</th>\n",
       "      <th>g</th>\n",
       "      <th>r</th>\n",
       "      <th>i</th>\n",
       "      <th>z</th>\n",
       "      <th>petroRad_u</th>\n",
       "      <th>petroRad_g</th>\n",
       "      <th>petroRad_i</th>\n",
       "      <th>petroRad_r</th>\n",
       "      <th>petroRad_z</th>\n",
       "      <th>petroFlux_u</th>\n",
       "      <th>petroFlux_g</th>\n",
       "      <th>petroFlux_i</th>\n",
       "      <th>petroFlux_r</th>\n",
       "      <th>petroFlux_z</th>\n",
       "      <th>petroR50_u</th>\n",
       "      <th>petroR50_g</th>\n",
       "      <th>petroR50_i</th>\n",
       "      <th>petroR50_r</th>\n",
       "      <th>petroR50_z</th>\n",
       "      <th>psfMag_u</th>\n",
       "      <th>psfMag_r</th>\n",
       "      <th>psfMag_g</th>\n",
       "      <th>psfMag_i</th>\n",
       "      <th>psfMag_z</th>\n",
       "      <th>expAB_u</th>\n",
       "      <th>expAB_g</th>\n",
       "      <th>expAB_r</th>\n",
       "      <th>expAB_i</th>\n",
       "      <th>expAB_z</th>\n",
       "      <th>redshift</th>\n",
       "      <th>class</th>\n",
       "    </tr>\n",
       "  </thead>\n",
       "  <tbody>\n",
       "    <tr>\n",
       "      <th>0</th>\n",
       "      <td>18.87062</td>\n",
       "      <td>17.59612</td>\n",
       "      <td>17.11245</td>\n",
       "      <td>16.83899</td>\n",
       "      <td>16.70908</td>\n",
       "      <td>7.282402</td>\n",
       "      <td>7.004576</td>\n",
       "      <td>6.855976</td>\n",
       "      <td>7.112749</td>\n",
       "      <td>6.930960</td>\n",
       "      <td>30.66393</td>\n",
       "      <td>95.11749</td>\n",
       "      <td>181.718400</td>\n",
       "      <td>146.991600</td>\n",
       "      <td>207.027300</td>\n",
       "      <td>3.832911</td>\n",
       "      <td>3.659077</td>\n",
       "      <td>3.486617</td>\n",
       "      <td>3.621753</td>\n",
       "      <td>3.606744</td>\n",
       "      <td>21.11891</td>\n",
       "      <td>19.50324</td>\n",
       "      <td>19.96352</td>\n",
       "      <td>19.25145</td>\n",
       "      <td>19.05230</td>\n",
       "      <td>0.479021</td>\n",
       "      <td>0.518483</td>\n",
       "      <td>0.520474</td>\n",
       "      <td>0.508502</td>\n",
       "      <td>0.488969</td>\n",
       "      <td>0.041691</td>\n",
       "      <td>GALAXY</td>\n",
       "    </tr>\n",
       "    <tr>\n",
       "      <th>1</th>\n",
       "      <td>19.59560</td>\n",
       "      <td>19.92153</td>\n",
       "      <td>20.34448</td>\n",
       "      <td>20.66213</td>\n",
       "      <td>20.59599</td>\n",
       "      <td>1.335305</td>\n",
       "      <td>1.321027</td>\n",
       "      <td>1.167182</td>\n",
       "      <td>1.266144</td>\n",
       "      <td>0.966431</td>\n",
       "      <td>14.55308</td>\n",
       "      <td>10.33474</td>\n",
       "      <td>4.623398</td>\n",
       "      <td>7.371214</td>\n",
       "      <td>4.824737</td>\n",
       "      <td>0.653159</td>\n",
       "      <td>0.659008</td>\n",
       "      <td>0.536881</td>\n",
       "      <td>0.650679</td>\n",
       "      <td>0.538456</td>\n",
       "      <td>19.58945</td>\n",
       "      <td>20.34491</td>\n",
       "      <td>19.92417</td>\n",
       "      <td>20.65535</td>\n",
       "      <td>20.57387</td>\n",
       "      <td>0.573926</td>\n",
       "      <td>0.531728</td>\n",
       "      <td>0.403072</td>\n",
       "      <td>0.999874</td>\n",
       "      <td>0.189495</td>\n",
       "      <td>-0.000814</td>\n",
       "      <td>STAR</td>\n",
       "    </tr>\n",
       "    <tr>\n",
       "      <th>2</th>\n",
       "      <td>19.26421</td>\n",
       "      <td>17.87891</td>\n",
       "      <td>17.09593</td>\n",
       "      <td>16.65159</td>\n",
       "      <td>16.35329</td>\n",
       "      <td>3.874802</td>\n",
       "      <td>3.952013</td>\n",
       "      <td>4.007457</td>\n",
       "      <td>4.057646</td>\n",
       "      <td>3.818449</td>\n",
       "      <td>19.31011</td>\n",
       "      <td>72.75911</td>\n",
       "      <td>220.896700</td>\n",
       "      <td>148.093400</td>\n",
       "      <td>278.021100</td>\n",
       "      <td>1.898399</td>\n",
       "      <td>1.993737</td>\n",
       "      <td>1.944997</td>\n",
       "      <td>1.968584</td>\n",
       "      <td>1.863368</td>\n",
       "      <td>20.82290</td>\n",
       "      <td>18.54832</td>\n",
       "      <td>19.33645</td>\n",
       "      <td>18.16669</td>\n",
       "      <td>17.78844</td>\n",
       "      <td>0.701666</td>\n",
       "      <td>0.743386</td>\n",
       "      <td>0.770897</td>\n",
       "      <td>0.778642</td>\n",
       "      <td>0.736771</td>\n",
       "      <td>0.113069</td>\n",
       "      <td>GALAXY</td>\n",
       "    </tr>\n",
       "    <tr>\n",
       "      <th>3</th>\n",
       "      <td>19.49739</td>\n",
       "      <td>17.96166</td>\n",
       "      <td>17.41269</td>\n",
       "      <td>17.20545</td>\n",
       "      <td>17.11567</td>\n",
       "      <td>1.251496</td>\n",
       "      <td>1.325716</td>\n",
       "      <td>1.176959</td>\n",
       "      <td>1.281164</td>\n",
       "      <td>1.199375</td>\n",
       "      <td>15.33828</td>\n",
       "      <td>62.74539</td>\n",
       "      <td>125.370700</td>\n",
       "      <td>104.867200</td>\n",
       "      <td>134.623300</td>\n",
       "      <td>0.633329</td>\n",
       "      <td>0.679328</td>\n",
       "      <td>0.611904</td>\n",
       "      <td>0.657945</td>\n",
       "      <td>0.622971</td>\n",
       "      <td>19.49706</td>\n",
       "      <td>17.42272</td>\n",
       "      <td>17.96176</td>\n",
       "      <td>17.21564</td>\n",
       "      <td>17.12367</td>\n",
       "      <td>0.999818</td>\n",
       "      <td>0.787760</td>\n",
       "      <td>0.745611</td>\n",
       "      <td>0.399718</td>\n",
       "      <td>0.986137</td>\n",
       "      <td>0.000087</td>\n",
       "      <td>STAR</td>\n",
       "    </tr>\n",
       "    <tr>\n",
       "      <th>4</th>\n",
       "      <td>18.31519</td>\n",
       "      <td>16.83033</td>\n",
       "      <td>16.26352</td>\n",
       "      <td>16.06320</td>\n",
       "      <td>15.97527</td>\n",
       "      <td>1.365736</td>\n",
       "      <td>1.336521</td>\n",
       "      <td>1.161740</td>\n",
       "      <td>1.266766</td>\n",
       "      <td>1.239413</td>\n",
       "      <td>45.91689</td>\n",
       "      <td>178.20720</td>\n",
       "      <td>359.093500</td>\n",
       "      <td>300.775600</td>\n",
       "      <td>388.320300</td>\n",
       "      <td>0.677250</td>\n",
       "      <td>0.680561</td>\n",
       "      <td>0.613476</td>\n",
       "      <td>0.655520</td>\n",
       "      <td>0.640669</td>\n",
       "      <td>18.33505</td>\n",
       "      <td>16.28580</td>\n",
       "      <td>16.85104</td>\n",
       "      <td>16.08275</td>\n",
       "      <td>15.98694</td>\n",
       "      <td>0.999795</td>\n",
       "      <td>0.834450</td>\n",
       "      <td>0.723526</td>\n",
       "      <td>0.712259</td>\n",
       "      <td>0.527055</td>\n",
       "      <td>0.000018</td>\n",
       "      <td>STAR</td>\n",
       "    </tr>\n",
       "  </tbody>\n",
       "</table>\n",
       "</div>"
      ],
      "text/plain": [
       "          u         g         r         i         z  petroRad_u  petroRad_g  \\\n",
       "0  18.87062  17.59612  17.11245  16.83899  16.70908    7.282402    7.004576   \n",
       "1  19.59560  19.92153  20.34448  20.66213  20.59599    1.335305    1.321027   \n",
       "2  19.26421  17.87891  17.09593  16.65159  16.35329    3.874802    3.952013   \n",
       "3  19.49739  17.96166  17.41269  17.20545  17.11567    1.251496    1.325716   \n",
       "4  18.31519  16.83033  16.26352  16.06320  15.97527    1.365736    1.336521   \n",
       "\n",
       "   petroRad_i  petroRad_r  petroRad_z  petroFlux_u  petroFlux_g  petroFlux_i  \\\n",
       "0    6.855976    7.112749    6.930960     30.66393     95.11749   181.718400   \n",
       "1    1.167182    1.266144    0.966431     14.55308     10.33474     4.623398   \n",
       "2    4.007457    4.057646    3.818449     19.31011     72.75911   220.896700   \n",
       "3    1.176959    1.281164    1.199375     15.33828     62.74539   125.370700   \n",
       "4    1.161740    1.266766    1.239413     45.91689    178.20720   359.093500   \n",
       "\n",
       "   petroFlux_r  petroFlux_z  petroR50_u  petroR50_g  petroR50_i  petroR50_r  \\\n",
       "0   146.991600   207.027300    3.832911    3.659077    3.486617    3.621753   \n",
       "1     7.371214     4.824737    0.653159    0.659008    0.536881    0.650679   \n",
       "2   148.093400   278.021100    1.898399    1.993737    1.944997    1.968584   \n",
       "3   104.867200   134.623300    0.633329    0.679328    0.611904    0.657945   \n",
       "4   300.775600   388.320300    0.677250    0.680561    0.613476    0.655520   \n",
       "\n",
       "   petroR50_z  psfMag_u  psfMag_r  psfMag_g  psfMag_i  psfMag_z   expAB_u  \\\n",
       "0    3.606744  21.11891  19.50324  19.96352  19.25145  19.05230  0.479021   \n",
       "1    0.538456  19.58945  20.34491  19.92417  20.65535  20.57387  0.573926   \n",
       "2    1.863368  20.82290  18.54832  19.33645  18.16669  17.78844  0.701666   \n",
       "3    0.622971  19.49706  17.42272  17.96176  17.21564  17.12367  0.999818   \n",
       "4    0.640669  18.33505  16.28580  16.85104  16.08275  15.98694  0.999795   \n",
       "\n",
       "    expAB_g   expAB_r   expAB_i   expAB_z  redshift   class  \n",
       "0  0.518483  0.520474  0.508502  0.488969  0.041691  GALAXY  \n",
       "1  0.531728  0.403072  0.999874  0.189495 -0.000814    STAR  \n",
       "2  0.743386  0.770897  0.778642  0.736771  0.113069  GALAXY  \n",
       "3  0.787760  0.745611  0.399718  0.986137  0.000087    STAR  \n",
       "4  0.834450  0.723526  0.712259  0.527055  0.000018    STAR  "
      ]
     },
     "execution_count": 5,
     "metadata": {},
     "output_type": "execute_result"
    }
   ],
   "source": [
    "# Visão de uma amostra das primeiras linhas\n",
    "pd.set_option('display.max_columns', None)\n",
    "df.head()"
   ]
  },
  {
   "cell_type": "code",
   "execution_count": 6,
   "id": "8964a7c5",
   "metadata": {
    "execution": {
     "iopub.execute_input": "2023-10-02T23:26:56.570412Z",
     "iopub.status.busy": "2023-10-02T23:26:56.570072Z",
     "iopub.status.idle": "2023-10-02T23:26:56.576392Z",
     "shell.execute_reply": "2023-10-02T23:26:56.575347Z"
    },
    "papermill": {
     "duration": 0.017451,
     "end_time": "2023-10-02T23:26:56.578334",
     "exception": false,
     "start_time": "2023-10-02T23:26:56.560883",
     "status": "completed"
    },
    "tags": []
   },
   "outputs": [
    {
     "data": {
      "text/plain": [
       "(100000, 32)"
      ]
     },
     "execution_count": 6,
     "metadata": {},
     "output_type": "execute_result"
    }
   ],
   "source": [
    "# Número de linhas e colunas\n",
    "df.shape"
   ]
  },
  {
   "cell_type": "markdown",
   "id": "dbafbb44",
   "metadata": {
    "papermill": {
     "duration": 0.008196,
     "end_time": "2023-10-02T23:26:56.594651",
     "exception": false,
     "start_time": "2023-10-02T23:26:56.586455",
     "status": "completed"
    },
    "tags": []
   },
   "source": [
    "Verificando valores nulos"
   ]
  },
  {
   "cell_type": "code",
   "execution_count": 7,
   "id": "59eb574d",
   "metadata": {
    "execution": {
     "iopub.execute_input": "2023-10-02T23:26:56.612559Z",
     "iopub.status.busy": "2023-10-02T23:26:56.612170Z",
     "iopub.status.idle": "2023-10-02T23:26:56.632865Z",
     "shell.execute_reply": "2023-10-02T23:26:56.631521Z"
    },
    "papermill": {
     "duration": 0.032753,
     "end_time": "2023-10-02T23:26:56.635739",
     "exception": false,
     "start_time": "2023-10-02T23:26:56.602986",
     "status": "completed"
    },
    "tags": []
   },
   "outputs": [
    {
     "data": {
      "text/plain": [
       "0"
      ]
     },
     "execution_count": 7,
     "metadata": {},
     "output_type": "execute_result"
    }
   ],
   "source": [
    "nulos = df.isnull().sum().max()\n",
    "nulos "
   ]
  },
  {
   "cell_type": "markdown",
   "id": "f326f5e8",
   "metadata": {},
   "source": [
    "Não há valores nulos ou ausentes"
   ]
  },
  {
   "cell_type": "markdown",
   "id": "5a22f64b",
   "metadata": {
    "papermill": {
     "duration": 0.007594,
     "end_time": "2023-10-02T23:26:56.651746",
     "exception": false,
     "start_time": "2023-10-02T23:26:56.644152",
     "status": "completed"
    },
    "tags": []
   },
   "source": [
    "\n",
    "\n",
    "# Sumário dos tipos de dados e outras informações"
   ]
  },
  {
   "cell_type": "code",
   "execution_count": 8,
   "id": "d038e5ad",
   "metadata": {
    "execution": {
     "iopub.execute_input": "2023-10-02T23:26:56.669181Z",
     "iopub.status.busy": "2023-10-02T23:26:56.668818Z",
     "iopub.status.idle": "2023-10-02T23:26:56.704132Z",
     "shell.execute_reply": "2023-10-02T23:26:56.703091Z"
    },
    "papermill": {
     "duration": 0.046617,
     "end_time": "2023-10-02T23:26:56.706395",
     "exception": false,
     "start_time": "2023-10-02T23:26:56.659778",
     "status": "completed"
    },
    "tags": []
   },
   "outputs": [
    {
     "name": "stdout",
     "output_type": "stream",
     "text": [
      "<class 'pandas.core.frame.DataFrame'>\n",
      "RangeIndex: 100000 entries, 0 to 99999\n",
      "Data columns (total 32 columns):\n",
      " #   Column       Non-Null Count   Dtype  \n",
      "---  ------       --------------   -----  \n",
      " 0   u            100000 non-null  float64\n",
      " 1   g            100000 non-null  float64\n",
      " 2   r            100000 non-null  float64\n",
      " 3   i            100000 non-null  float64\n",
      " 4   z            100000 non-null  float64\n",
      " 5   petroRad_u   100000 non-null  float64\n",
      " 6   petroRad_g   100000 non-null  float64\n",
      " 7   petroRad_i   100000 non-null  float64\n",
      " 8   petroRad_r   100000 non-null  float64\n",
      " 9   petroRad_z   100000 non-null  float64\n",
      " 10  petroFlux_u  100000 non-null  float64\n",
      " 11  petroFlux_g  100000 non-null  float64\n",
      " 12  petroFlux_i  100000 non-null  float64\n",
      " 13  petroFlux_r  100000 non-null  float64\n",
      " 14  petroFlux_z  100000 non-null  float64\n",
      " 15  petroR50_u   100000 non-null  float64\n",
      " 16  petroR50_g   100000 non-null  float64\n",
      " 17  petroR50_i   100000 non-null  float64\n",
      " 18  petroR50_r   100000 non-null  float64\n",
      " 19  petroR50_z   100000 non-null  float64\n",
      " 20  psfMag_u     100000 non-null  float64\n",
      " 21  psfMag_r     100000 non-null  float64\n",
      " 22  psfMag_g     100000 non-null  float64\n",
      " 23  psfMag_i     100000 non-null  float64\n",
      " 24  psfMag_z     100000 non-null  float64\n",
      " 25  expAB_u      100000 non-null  float64\n",
      " 26  expAB_g      100000 non-null  float64\n",
      " 27  expAB_r      100000 non-null  float64\n",
      " 28  expAB_i      100000 non-null  float64\n",
      " 29  expAB_z      100000 non-null  float64\n",
      " 30  redshift     100000 non-null  float64\n",
      " 31  class        100000 non-null  object \n",
      "dtypes: float64(31), object(1)\n",
      "memory usage: 24.4+ MB\n"
     ]
    }
   ],
   "source": [
    "df.info()"
   ]
  },
  {
   "cell_type": "markdown",
   "id": "ad74b427",
   "metadata": {
    "papermill": {
     "duration": 0.007668,
     "end_time": "2023-10-02T23:26:56.722604",
     "exception": false,
     "start_time": "2023-10-02T23:26:56.714936",
     "status": "completed"
    },
    "tags": []
   },
   "source": [
    "\n",
    "# Apresentação de alguns dados estatísticos"
   ]
  },
  {
   "cell_type": "code",
   "execution_count": 9,
   "id": "075a3eab",
   "metadata": {
    "execution": {
     "iopub.execute_input": "2023-10-02T23:26:56.740201Z",
     "iopub.status.busy": "2023-10-02T23:26:56.739825Z",
     "iopub.status.idle": "2023-10-02T23:26:56.990203Z",
     "shell.execute_reply": "2023-10-02T23:26:56.989130Z"
    },
    "papermill": {
     "duration": 0.26172,
     "end_time": "2023-10-02T23:26:56.992513",
     "exception": false,
     "start_time": "2023-10-02T23:26:56.730793",
     "status": "completed"
    },
    "tags": []
   },
   "outputs": [
    {
     "data": {
      "text/html": [
       "<div>\n",
       "<style scoped>\n",
       "    .dataframe tbody tr th:only-of-type {\n",
       "        vertical-align: middle;\n",
       "    }\n",
       "\n",
       "    .dataframe tbody tr th {\n",
       "        vertical-align: top;\n",
       "    }\n",
       "\n",
       "    .dataframe thead th {\n",
       "        text-align: right;\n",
       "    }\n",
       "</style>\n",
       "<table border=\"1\" class=\"dataframe\">\n",
       "  <thead>\n",
       "    <tr style=\"text-align: right;\">\n",
       "      <th></th>\n",
       "      <th>u</th>\n",
       "      <th>g</th>\n",
       "      <th>r</th>\n",
       "      <th>i</th>\n",
       "      <th>z</th>\n",
       "      <th>petroRad_u</th>\n",
       "      <th>petroRad_g</th>\n",
       "      <th>petroRad_i</th>\n",
       "      <th>petroRad_r</th>\n",
       "      <th>petroRad_z</th>\n",
       "      <th>petroFlux_u</th>\n",
       "      <th>petroFlux_g</th>\n",
       "      <th>petroFlux_i</th>\n",
       "      <th>petroFlux_r</th>\n",
       "      <th>petroFlux_z</th>\n",
       "      <th>petroR50_u</th>\n",
       "      <th>petroR50_g</th>\n",
       "      <th>petroR50_i</th>\n",
       "      <th>petroR50_r</th>\n",
       "      <th>petroR50_z</th>\n",
       "      <th>psfMag_u</th>\n",
       "      <th>psfMag_r</th>\n",
       "      <th>psfMag_g</th>\n",
       "      <th>psfMag_i</th>\n",
       "      <th>psfMag_z</th>\n",
       "      <th>expAB_u</th>\n",
       "      <th>expAB_g</th>\n",
       "      <th>expAB_r</th>\n",
       "      <th>expAB_i</th>\n",
       "      <th>expAB_z</th>\n",
       "      <th>redshift</th>\n",
       "    </tr>\n",
       "  </thead>\n",
       "  <tbody>\n",
       "    <tr>\n",
       "      <th>count</th>\n",
       "      <td>100000.000000</td>\n",
       "      <td>100000.000000</td>\n",
       "      <td>100000.000000</td>\n",
       "      <td>100000.000000</td>\n",
       "      <td>100000.000000</td>\n",
       "      <td>100000.000000</td>\n",
       "      <td>100000.000000</td>\n",
       "      <td>100000.000000</td>\n",
       "      <td>100000.000000</td>\n",
       "      <td>100000.000000</td>\n",
       "      <td>100000.000000</td>\n",
       "      <td>100000.000000</td>\n",
       "      <td>100000.000000</td>\n",
       "      <td>100000.000000</td>\n",
       "      <td>100000.000000</td>\n",
       "      <td>100000.000000</td>\n",
       "      <td>100000.000000</td>\n",
       "      <td>100000.000000</td>\n",
       "      <td>100000.000000</td>\n",
       "      <td>100000.000000</td>\n",
       "      <td>100000.000000</td>\n",
       "      <td>100000.000000</td>\n",
       "      <td>100000.000000</td>\n",
       "      <td>100000.000000</td>\n",
       "      <td>100000.000000</td>\n",
       "      <td>100000.000000</td>\n",
       "      <td>100000.000000</td>\n",
       "      <td>100000.000000</td>\n",
       "      <td>100000.000000</td>\n",
       "      <td>100000.000000</td>\n",
       "      <td>100000.000000</td>\n",
       "    </tr>\n",
       "    <tr>\n",
       "      <th>mean</th>\n",
       "      <td>18.641137</td>\n",
       "      <td>17.407088</td>\n",
       "      <td>16.878550</td>\n",
       "      <td>16.517137</td>\n",
       "      <td>16.154837</td>\n",
       "      <td>6.497004</td>\n",
       "      <td>4.678636</td>\n",
       "      <td>4.458623</td>\n",
       "      <td>4.478506</td>\n",
       "      <td>4.560777</td>\n",
       "      <td>52.988780</td>\n",
       "      <td>175.000342</td>\n",
       "      <td>397.383205</td>\n",
       "      <td>302.745181</td>\n",
       "      <td>471.129084</td>\n",
       "      <td>-3.683850</td>\n",
       "      <td>1.111468</td>\n",
       "      <td>-1.741663</td>\n",
       "      <td>1.123442</td>\n",
       "      <td>-8.957856</td>\n",
       "      <td>19.592174</td>\n",
       "      <td>17.884605</td>\n",
       "      <td>18.392280</td>\n",
       "      <td>17.531364</td>\n",
       "      <td>17.138493</td>\n",
       "      <td>0.588445</td>\n",
       "      <td>0.673314</td>\n",
       "      <td>0.660934</td>\n",
       "      <td>0.549130</td>\n",
       "      <td>0.311389</td>\n",
       "      <td>0.168441</td>\n",
       "    </tr>\n",
       "    <tr>\n",
       "      <th>std</th>\n",
       "      <td>0.829035</td>\n",
       "      <td>0.974683</td>\n",
       "      <td>1.118858</td>\n",
       "      <td>31.694636</td>\n",
       "      <td>54.871034</td>\n",
       "      <td>13.134345</td>\n",
       "      <td>5.080707</td>\n",
       "      <td>5.189891</td>\n",
       "      <td>4.922520</td>\n",
       "      <td>5.692894</td>\n",
       "      <td>136.851904</td>\n",
       "      <td>357.402958</td>\n",
       "      <td>879.192500</td>\n",
       "      <td>645.886531</td>\n",
       "      <td>1123.432784</td>\n",
       "      <td>242.870050</td>\n",
       "      <td>100.026659</td>\n",
       "      <td>192.347301</td>\n",
       "      <td>94.895979</td>\n",
       "      <td>328.489488</td>\n",
       "      <td>1.320291</td>\n",
       "      <td>1.288541</td>\n",
       "      <td>1.282606</td>\n",
       "      <td>31.701194</td>\n",
       "      <td>54.876352</td>\n",
       "      <td>0.260097</td>\n",
       "      <td>0.235317</td>\n",
       "      <td>0.242927</td>\n",
       "      <td>31.622620</td>\n",
       "      <td>54.770201</td>\n",
       "      <td>0.434285</td>\n",
       "    </tr>\n",
       "    <tr>\n",
       "      <th>min</th>\n",
       "      <td>11.726470</td>\n",
       "      <td>11.696170</td>\n",
       "      <td>11.277090</td>\n",
       "      <td>-9999.000000</td>\n",
       "      <td>-9999.000000</td>\n",
       "      <td>0.031018</td>\n",
       "      <td>0.072805</td>\n",
       "      <td>0.057369</td>\n",
       "      <td>0.503416</td>\n",
       "      <td>0.045731</td>\n",
       "      <td>-9306.297000</td>\n",
       "      <td>-396.729600</td>\n",
       "      <td>-489.092700</td>\n",
       "      <td>-19.912980</td>\n",
       "      <td>-75768.980000</td>\n",
       "      <td>-9999.000000</td>\n",
       "      <td>-9999.000000</td>\n",
       "      <td>-9999.000000</td>\n",
       "      <td>-9999.000000</td>\n",
       "      <td>-9999.000000</td>\n",
       "      <td>13.253570</td>\n",
       "      <td>11.253550</td>\n",
       "      <td>11.658570</td>\n",
       "      <td>-9999.000000</td>\n",
       "      <td>-9999.000000</td>\n",
       "      <td>0.050000</td>\n",
       "      <td>0.050000</td>\n",
       "      <td>0.050000</td>\n",
       "      <td>-9999.000000</td>\n",
       "      <td>-9999.000000</td>\n",
       "      <td>-0.004268</td>\n",
       "    </tr>\n",
       "    <tr>\n",
       "      <th>25%</th>\n",
       "      <td>18.214315</td>\n",
       "      <td>16.853340</td>\n",
       "      <td>16.194763</td>\n",
       "      <td>15.861995</td>\n",
       "      <td>15.620268</td>\n",
       "      <td>1.580248</td>\n",
       "      <td>1.483575</td>\n",
       "      <td>1.301338</td>\n",
       "      <td>1.350223</td>\n",
       "      <td>1.335289</td>\n",
       "      <td>19.424303</td>\n",
       "      <td>58.397385</td>\n",
       "      <td>113.048875</td>\n",
       "      <td>90.606687</td>\n",
       "      <td>121.916650</td>\n",
       "      <td>0.782614</td>\n",
       "      <td>0.743202</td>\n",
       "      <td>0.663752</td>\n",
       "      <td>0.687324</td>\n",
       "      <td>0.674866</td>\n",
       "      <td>18.751895</td>\n",
       "      <td>17.098733</td>\n",
       "      <td>17.600867</td>\n",
       "      <td>16.842290</td>\n",
       "      <td>16.645390</td>\n",
       "      <td>0.387406</td>\n",
       "      <td>0.514009</td>\n",
       "      <td>0.487474</td>\n",
       "      <td>0.470529</td>\n",
       "      <td>0.409965</td>\n",
       "      <td>0.000065</td>\n",
       "    </tr>\n",
       "    <tr>\n",
       "      <th>50%</th>\n",
       "      <td>18.878005</td>\n",
       "      <td>17.520310</td>\n",
       "      <td>16.896065</td>\n",
       "      <td>16.594740</td>\n",
       "      <td>16.419040</td>\n",
       "      <td>3.473864</td>\n",
       "      <td>3.336594</td>\n",
       "      <td>3.349003</td>\n",
       "      <td>3.291405</td>\n",
       "      <td>3.541550</td>\n",
       "      <td>27.950255</td>\n",
       "      <td>93.950580</td>\n",
       "      <td>214.238300</td>\n",
       "      <td>164.623100</td>\n",
       "      <td>243.603200</td>\n",
       "      <td>1.468786</td>\n",
       "      <td>1.546289</td>\n",
       "      <td>1.497291</td>\n",
       "      <td>1.537168</td>\n",
       "      <td>1.469153</td>\n",
       "      <td>19.560930</td>\n",
       "      <td>18.023495</td>\n",
       "      <td>18.585375</td>\n",
       "      <td>17.742665</td>\n",
       "      <td>17.526325</td>\n",
       "      <td>0.611638</td>\n",
       "      <td>0.704848</td>\n",
       "      <td>0.692239</td>\n",
       "      <td>0.679104</td>\n",
       "      <td>0.641443</td>\n",
       "      <td>0.048772</td>\n",
       "    </tr>\n",
       "    <tr>\n",
       "      <th>75%</th>\n",
       "      <td>19.275750</td>\n",
       "      <td>18.052460</td>\n",
       "      <td>17.565593</td>\n",
       "      <td>17.310102</td>\n",
       "      <td>17.193873</td>\n",
       "      <td>7.470103</td>\n",
       "      <td>6.570969</td>\n",
       "      <td>6.196268</td>\n",
       "      <td>6.325418</td>\n",
       "      <td>6.098101</td>\n",
       "      <td>50.844825</td>\n",
       "      <td>173.442500</td>\n",
       "      <td>415.916475</td>\n",
       "      <td>310.852750</td>\n",
       "      <td>498.303575</td>\n",
       "      <td>3.088440</td>\n",
       "      <td>2.978893</td>\n",
       "      <td>2.769644</td>\n",
       "      <td>2.855537</td>\n",
       "      <td>2.598539</td>\n",
       "      <td>20.660875</td>\n",
       "      <td>18.858960</td>\n",
       "      <td>19.327640</td>\n",
       "      <td>18.586033</td>\n",
       "      <td>18.366243</td>\n",
       "      <td>0.796679</td>\n",
       "      <td>0.864902</td>\n",
       "      <td>0.863116</td>\n",
       "      <td>0.849946</td>\n",
       "      <td>0.822491</td>\n",
       "      <td>0.096680</td>\n",
       "    </tr>\n",
       "    <tr>\n",
       "      <th>max</th>\n",
       "      <td>19.599990</td>\n",
       "      <td>19.977270</td>\n",
       "      <td>31.698160</td>\n",
       "      <td>30.980870</td>\n",
       "      <td>28.668700</td>\n",
       "      <td>258.518600</td>\n",
       "      <td>258.409800</td>\n",
       "      <td>258.453600</td>\n",
       "      <td>258.436700</td>\n",
       "      <td>258.422600</td>\n",
       "      <td>17173.480000</td>\n",
       "      <td>21686.390000</td>\n",
       "      <td>40899.660000</td>\n",
       "      <td>31533.950000</td>\n",
       "      <td>54495.910000</td>\n",
       "      <td>177.371300</td>\n",
       "      <td>75.968280</td>\n",
       "      <td>139.884000</td>\n",
       "      <td>123.567700</td>\n",
       "      <td>74.485400</td>\n",
       "      <td>26.369840</td>\n",
       "      <td>24.802850</td>\n",
       "      <td>25.962180</td>\n",
       "      <td>24.362590</td>\n",
       "      <td>27.043280</td>\n",
       "      <td>1.000000</td>\n",
       "      <td>1.000000</td>\n",
       "      <td>1.000000</td>\n",
       "      <td>1.000000</td>\n",
       "      <td>1.000000</td>\n",
       "      <td>6.990327</td>\n",
       "    </tr>\n",
       "  </tbody>\n",
       "</table>\n",
       "</div>"
      ],
      "text/plain": [
       "                   u              g              r              i  \\\n",
       "count  100000.000000  100000.000000  100000.000000  100000.000000   \n",
       "mean       18.641137      17.407088      16.878550      16.517137   \n",
       "std         0.829035       0.974683       1.118858      31.694636   \n",
       "min        11.726470      11.696170      11.277090   -9999.000000   \n",
       "25%        18.214315      16.853340      16.194763      15.861995   \n",
       "50%        18.878005      17.520310      16.896065      16.594740   \n",
       "75%        19.275750      18.052460      17.565593      17.310102   \n",
       "max        19.599990      19.977270      31.698160      30.980870   \n",
       "\n",
       "                   z     petroRad_u     petroRad_g     petroRad_i  \\\n",
       "count  100000.000000  100000.000000  100000.000000  100000.000000   \n",
       "mean       16.154837       6.497004       4.678636       4.458623   \n",
       "std        54.871034      13.134345       5.080707       5.189891   \n",
       "min     -9999.000000       0.031018       0.072805       0.057369   \n",
       "25%        15.620268       1.580248       1.483575       1.301338   \n",
       "50%        16.419040       3.473864       3.336594       3.349003   \n",
       "75%        17.193873       7.470103       6.570969       6.196268   \n",
       "max        28.668700     258.518600     258.409800     258.453600   \n",
       "\n",
       "          petroRad_r     petroRad_z    petroFlux_u    petroFlux_g  \\\n",
       "count  100000.000000  100000.000000  100000.000000  100000.000000   \n",
       "mean        4.478506       4.560777      52.988780     175.000342   \n",
       "std         4.922520       5.692894     136.851904     357.402958   \n",
       "min         0.503416       0.045731   -9306.297000    -396.729600   \n",
       "25%         1.350223       1.335289      19.424303      58.397385   \n",
       "50%         3.291405       3.541550      27.950255      93.950580   \n",
       "75%         6.325418       6.098101      50.844825     173.442500   \n",
       "max       258.436700     258.422600   17173.480000   21686.390000   \n",
       "\n",
       "         petroFlux_i    petroFlux_r    petroFlux_z     petroR50_u  \\\n",
       "count  100000.000000  100000.000000  100000.000000  100000.000000   \n",
       "mean      397.383205     302.745181     471.129084      -3.683850   \n",
       "std       879.192500     645.886531    1123.432784     242.870050   \n",
       "min      -489.092700     -19.912980  -75768.980000   -9999.000000   \n",
       "25%       113.048875      90.606687     121.916650       0.782614   \n",
       "50%       214.238300     164.623100     243.603200       1.468786   \n",
       "75%       415.916475     310.852750     498.303575       3.088440   \n",
       "max     40899.660000   31533.950000   54495.910000     177.371300   \n",
       "\n",
       "          petroR50_g     petroR50_i     petroR50_r     petroR50_z  \\\n",
       "count  100000.000000  100000.000000  100000.000000  100000.000000   \n",
       "mean        1.111468      -1.741663       1.123442      -8.957856   \n",
       "std       100.026659     192.347301      94.895979     328.489488   \n",
       "min     -9999.000000   -9999.000000   -9999.000000   -9999.000000   \n",
       "25%         0.743202       0.663752       0.687324       0.674866   \n",
       "50%         1.546289       1.497291       1.537168       1.469153   \n",
       "75%         2.978893       2.769644       2.855537       2.598539   \n",
       "max        75.968280     139.884000     123.567700      74.485400   \n",
       "\n",
       "            psfMag_u       psfMag_r       psfMag_g       psfMag_i  \\\n",
       "count  100000.000000  100000.000000  100000.000000  100000.000000   \n",
       "mean       19.592174      17.884605      18.392280      17.531364   \n",
       "std         1.320291       1.288541       1.282606      31.701194   \n",
       "min        13.253570      11.253550      11.658570   -9999.000000   \n",
       "25%        18.751895      17.098733      17.600867      16.842290   \n",
       "50%        19.560930      18.023495      18.585375      17.742665   \n",
       "75%        20.660875      18.858960      19.327640      18.586033   \n",
       "max        26.369840      24.802850      25.962180      24.362590   \n",
       "\n",
       "            psfMag_z        expAB_u        expAB_g        expAB_r  \\\n",
       "count  100000.000000  100000.000000  100000.000000  100000.000000   \n",
       "mean       17.138493       0.588445       0.673314       0.660934   \n",
       "std        54.876352       0.260097       0.235317       0.242927   \n",
       "min     -9999.000000       0.050000       0.050000       0.050000   \n",
       "25%        16.645390       0.387406       0.514009       0.487474   \n",
       "50%        17.526325       0.611638       0.704848       0.692239   \n",
       "75%        18.366243       0.796679       0.864902       0.863116   \n",
       "max        27.043280       1.000000       1.000000       1.000000   \n",
       "\n",
       "             expAB_i        expAB_z       redshift  \n",
       "count  100000.000000  100000.000000  100000.000000  \n",
       "mean        0.549130       0.311389       0.168441  \n",
       "std        31.622620      54.770201       0.434285  \n",
       "min     -9999.000000   -9999.000000      -0.004268  \n",
       "25%         0.470529       0.409965       0.000065  \n",
       "50%         0.679104       0.641443       0.048772  \n",
       "75%         0.849946       0.822491       0.096680  \n",
       "max         1.000000       1.000000       6.990327  "
      ]
     },
     "execution_count": 9,
     "metadata": {},
     "output_type": "execute_result"
    }
   ],
   "source": [
    "\n",
    "df.describe()"
   ]
  },
  {
   "cell_type": "markdown",
   "id": "f80cc59b",
   "metadata": {},
   "source": [
    "Apresentação dos nomes de colunas"
   ]
  },
  {
   "cell_type": "code",
   "execution_count": 10,
   "id": "09ceb97a",
   "metadata": {
    "execution": {
     "iopub.execute_input": "2023-10-02T23:26:57.012130Z",
     "iopub.status.busy": "2023-10-02T23:26:57.011779Z",
     "iopub.status.idle": "2023-10-02T23:26:57.018477Z",
     "shell.execute_reply": "2023-10-02T23:26:57.017390Z"
    },
    "papermill": {
     "duration": 0.018682,
     "end_time": "2023-10-02T23:26:57.020284",
     "exception": false,
     "start_time": "2023-10-02T23:26:57.001602",
     "status": "completed"
    },
    "tags": []
   },
   "outputs": [
    {
     "data": {
      "text/plain": [
       "array(['u', 'g', 'r', 'i', 'z', 'petroRad_u', 'petroRad_g', 'petroRad_i',\n",
       "       'petroRad_r', 'petroRad_z', 'petroFlux_u', 'petroFlux_g',\n",
       "       'petroFlux_i', 'petroFlux_r', 'petroFlux_z', 'petroR50_u',\n",
       "       'petroR50_g', 'petroR50_i', 'petroR50_r', 'petroR50_z', 'psfMag_u',\n",
       "       'psfMag_r', 'psfMag_g', 'psfMag_i', 'psfMag_z', 'expAB_u',\n",
       "       'expAB_g', 'expAB_r', 'expAB_i', 'expAB_z', 'redshift', 'class'],\n",
       "      dtype=object)"
      ]
     },
     "execution_count": 10,
     "metadata": {},
     "output_type": "execute_result"
    }
   ],
   "source": [
    "df.columns.values"
   ]
  },
  {
   "cell_type": "markdown",
   "id": "d688fd18",
   "metadata": {
    "papermill": {
     "duration": 0.00854,
     "end_time": "2023-10-02T23:26:57.037566",
     "exception": false,
     "start_time": "2023-10-02T23:26:57.029026",
     "status": "completed"
    },
    "tags": []
   },
   "source": [
    "# **Coluna Target**\n",
    "\n",
    "Avaliando a distribuição da coluna target"
   ]
  },
  {
   "cell_type": "code",
   "execution_count": 11,
   "id": "95d7cf51",
   "metadata": {
    "execution": {
     "iopub.execute_input": "2023-10-02T23:26:57.057260Z",
     "iopub.status.busy": "2023-10-02T23:26:57.056178Z",
     "iopub.status.idle": "2023-10-02T23:26:57.073205Z",
     "shell.execute_reply": "2023-10-02T23:26:57.072215Z"
    },
    "papermill": {
     "duration": 0.029784,
     "end_time": "2023-10-02T23:26:57.076013",
     "exception": false,
     "start_time": "2023-10-02T23:26:57.046229",
     "status": "completed"
    },
    "tags": []
   },
   "outputs": [
    {
     "data": {
      "text/html": [
       "<div>\n",
       "<style scoped>\n",
       "    .dataframe tbody tr th:only-of-type {\n",
       "        vertical-align: middle;\n",
       "    }\n",
       "\n",
       "    .dataframe tbody tr th {\n",
       "        vertical-align: top;\n",
       "    }\n",
       "\n",
       "    .dataframe thead th {\n",
       "        text-align: right;\n",
       "    }\n",
       "</style>\n",
       "<table border=\"1\" class=\"dataframe\">\n",
       "  <thead>\n",
       "    <tr style=\"text-align: right;\">\n",
       "      <th></th>\n",
       "      <th>Total</th>\n",
       "      <th>%</th>\n",
       "    </tr>\n",
       "  </thead>\n",
       "  <tbody>\n",
       "    <tr>\n",
       "      <th>GALAXY</th>\n",
       "      <td>52343</td>\n",
       "      <td>52.343</td>\n",
       "    </tr>\n",
       "    <tr>\n",
       "      <th>STAR</th>\n",
       "      <td>37232</td>\n",
       "      <td>37.232</td>\n",
       "    </tr>\n",
       "    <tr>\n",
       "      <th>QSO</th>\n",
       "      <td>10425</td>\n",
       "      <td>10.425</td>\n",
       "    </tr>\n",
       "  </tbody>\n",
       "</table>\n",
       "</div>"
      ],
      "text/plain": [
       "        Total       %\n",
       "GALAXY  52343  52.343\n",
       "STAR    37232  37.232\n",
       "QSO     10425  10.425"
      ]
     },
     "execution_count": 11,
     "metadata": {},
     "output_type": "execute_result"
    }
   ],
   "source": [
    "class_counts = df['class'].value_counts()\n",
    "\n",
    "# cálculo das porcentagens\n",
    "class_percentages = (class_counts / class_counts.sum()) * 100\n",
    "\n",
    "# Cria um novo dataframe para apresentar a distribuição\n",
    "result_df = pd.DataFrame({'Total': class_counts, '%': class_percentages})\n",
    "result_df\n"
   ]
  },
  {
   "cell_type": "markdown",
   "id": "8f876f22",
   "metadata": {},
   "source": [
    "Apresentando graficamente"
   ]
  },
  {
   "cell_type": "code",
   "execution_count": 12,
   "id": "9fe7eb41",
   "metadata": {
    "execution": {
     "iopub.execute_input": "2023-10-02T23:26:57.100653Z",
     "iopub.status.busy": "2023-10-02T23:26:57.099879Z",
     "iopub.status.idle": "2023-10-02T23:26:57.424692Z",
     "shell.execute_reply": "2023-10-02T23:26:57.423534Z"
    },
    "papermill": {
     "duration": 0.33876,
     "end_time": "2023-10-02T23:26:57.427390",
     "exception": false,
     "start_time": "2023-10-02T23:26:57.088630",
     "status": "completed"
    },
    "tags": []
   },
   "outputs": [
    {
     "data": {
      "text/plain": [
       "Text(0.5, 1.0, 'Categorias de classes')"
      ]
     },
     "execution_count": 12,
     "metadata": {},
     "output_type": "execute_result"
    },
    {
     "data": {
      "image/png": "[encoded data removed]",
      "text/plain": [
       "<Figure size 432x288 with 1 Axes>"
      ]
     },
     "metadata": {
      "needs_background": "light"
     },
     "output_type": "display_data"
    }
   ],
   "source": [
    "sns.countplot(x = df['class'])\n",
    "plt.title('Categorias de classes')"
   ]
  },
  {
   "cell_type": "markdown",
   "id": "0096bbec",
   "metadata": {},
   "source": [
    "# Etapa 3 - Preparação dos Dados"
   ]
  },
  {
   "cell_type": "markdown",
   "id": "450c30fd",
   "metadata": {
    "papermill": {
     "duration": 0.009592,
     "end_time": "2023-10-02T23:26:57.514351",
     "exception": false,
     "start_time": "2023-10-02T23:26:57.504759",
     "status": "completed"
    },
    "tags": []
   },
   "source": [
    "Vamos aplicar o LabelEncoder para transformar os valores de classe em dados numéricos, para que possam ser utilizado nos modelos"
   ]
  },
  {
   "cell_type": "code",
   "execution_count": 13,
   "id": "8067bd22",
   "metadata": {
    "execution": {
     "iopub.execute_input": "2023-10-02T23:26:57.535039Z",
     "iopub.status.busy": "2023-10-02T23:26:57.534057Z",
     "iopub.status.idle": "2023-10-02T23:26:57.565168Z",
     "shell.execute_reply": "2023-10-02T23:26:57.564216Z"
    },
    "papermill": {
     "duration": 0.043844,
     "end_time": "2023-10-02T23:26:57.567413",
     "exception": false,
     "start_time": "2023-10-02T23:26:57.523569",
     "status": "completed"
    },
    "tags": []
   },
   "outputs": [],
   "source": [
    "encoder = LabelEncoder()\n",
    "df['class'] = encoder.fit_transform(df['class'])"
   ]
  },
  {
   "cell_type": "code",
   "execution_count": 14,
   "id": "863f240d",
   "metadata": {
    "execution": {
     "iopub.execute_input": "2023-10-02T23:26:57.590041Z",
     "iopub.status.busy": "2023-10-02T23:26:57.588932Z",
     "iopub.status.idle": "2023-10-02T23:26:57.599706Z",
     "shell.execute_reply": "2023-10-02T23:26:57.598787Z"
    },
    "papermill": {
     "duration": 0.02462,
     "end_time": "2023-10-02T23:26:57.601664",
     "exception": false,
     "start_time": "2023-10-02T23:26:57.577044",
     "status": "completed"
    },
    "tags": []
   },
   "outputs": [
    {
     "data": {
      "text/plain": [
       "0    52343\n",
       "2    37232\n",
       "1    10425\n",
       "Name: class, dtype: int64"
      ]
     },
     "execution_count": 14,
     "metadata": {},
     "output_type": "execute_result"
    }
   ],
   "source": [
    "df['class'].value_counts()"
   ]
  },
  {
   "cell_type": "markdown",
   "id": "2519f401",
   "metadata": {
    "papermill": {
     "duration": 0.011052,
     "end_time": "2023-10-02T23:26:59.106406",
     "exception": false,
     "start_time": "2023-10-02T23:26:59.095354",
     "status": "completed"
    },
    "tags": []
   },
   "source": [
    "# Etapa 4 - Processamento dos dados"
   ]
  },
  {
   "cell_type": "markdown",
   "id": "01317008",
   "metadata": {},
   "source": [
    "Preparo dos datasets para aplicação dos modelos"
   ]
  },
  {
   "cell_type": "code",
   "execution_count": 15,
   "id": "608a40b7",
   "metadata": {
    "execution": {
     "iopub.execute_input": "2023-10-02T23:26:59.130790Z",
     "iopub.status.busy": "2023-10-02T23:26:59.130118Z",
     "iopub.status.idle": "2023-10-02T23:26:59.147800Z",
     "shell.execute_reply": "2023-10-02T23:26:59.146689Z"
    },
    "papermill": {
     "duration": 0.032529,
     "end_time": "2023-10-02T23:26:59.150191",
     "exception": false,
     "start_time": "2023-10-02T23:26:59.117662",
     "status": "completed"
    },
    "tags": []
   },
   "outputs": [],
   "source": [
    "X = df.drop('class', axis=1)\n",
    "y = df['class']\n",
    "X_columns = X.columns"
   ]
  },
  {
   "cell_type": "code",
   "execution_count": 16,
   "id": "0662a93c",
   "metadata": {
    "execution": {
     "iopub.execute_input": "2023-10-02T23:26:59.175508Z",
     "iopub.status.busy": "2023-10-02T23:26:59.174585Z",
     "iopub.status.idle": "2023-10-02T23:26:59.240609Z",
     "shell.execute_reply": "2023-10-02T23:26:59.239301Z"
    },
    "papermill": {
     "duration": 0.08115,
     "end_time": "2023-10-02T23:26:59.243242",
     "exception": false,
     "start_time": "2023-10-02T23:26:59.162092",
     "status": "completed"
    },
    "tags": []
   },
   "outputs": [],
   "source": [
    "scaler = MinMaxScaler(copy=True, feature_range=(0, 1))\n",
    "X = scaler.fit_transform(X)"
   ]
  },
  {
   "cell_type": "code",
   "execution_count": 17,
   "id": "6985f7b9",
   "metadata": {
    "execution": {
     "iopub.execute_input": "2023-10-02T23:26:59.267600Z",
     "iopub.status.busy": "2023-10-02T23:26:59.267212Z",
     "iopub.status.idle": "2023-10-02T23:26:59.321890Z",
     "shell.execute_reply": "2023-10-02T23:26:59.320679Z"
    },
    "papermill": {
     "duration": 0.069566,
     "end_time": "2023-10-02T23:26:59.324168",
     "exception": false,
     "start_time": "2023-10-02T23:26:59.254602",
     "status": "completed"
    },
    "tags": []
   },
   "outputs": [],
   "source": [
    "X_train, X_test, y_train, y_test = train_test_split(X, y, test_size=0.3, shuffle=True, random_state=42)"
   ]
  },
  {
   "cell_type": "code",
   "execution_count": 18,
   "id": "9d586365",
   "metadata": {
    "execution": {
     "iopub.execute_input": "2023-10-02T23:26:59.348411Z",
     "iopub.status.busy": "2023-10-02T23:26:59.348017Z",
     "iopub.status.idle": "2023-10-02T23:26:59.354870Z",
     "shell.execute_reply": "2023-10-02T23:26:59.353653Z"
    },
    "papermill": {
     "duration": 0.021638,
     "end_time": "2023-10-02T23:26:59.357120",
     "exception": false,
     "start_time": "2023-10-02T23:26:59.335482",
     "status": "completed"
    },
    "tags": []
   },
   "outputs": [
    {
     "data": {
      "text/plain": [
       "((70000, 31), (30000, 31), (70000,), (30000,))"
      ]
     },
     "execution_count": 18,
     "metadata": {},
     "output_type": "execute_result"
    }
   ],
   "source": [
    "X_train.shape, X_test.shape, y_train.shape, y_test.shape"
   ]
  },
  {
   "cell_type": "markdown",
   "id": "0c2c40f3",
   "metadata": {
    "papermill": {
     "duration": 0.010887,
     "end_time": "2023-10-02T23:26:59.379528",
     "exception": false,
     "start_time": "2023-10-02T23:26:59.368641",
     "status": "completed"
    },
    "tags": []
   },
   "source": [
    "# Etapa 5 - Aplicação dos Modelos"
   ]
  },
  {
   "cell_type": "markdown",
   "id": "77e9f4bf",
   "metadata": {},
   "source": [
    "Serão aplicados os seguintes modelos:\n",
    "* Logistic Regression\n",
    "* Decision Tree\n",
    "* Support Vector Machines (SVM)\n",
    "* Naive Bayes\n",
    "* KNN Neighbours\n",
    "* XGBoost"
   ]
  },
  {
   "cell_type": "code",
   "execution_count": 19,
   "id": "10ed7b9a",
   "metadata": {},
   "outputs": [],
   "source": [
    "# Dicionário para armazenar a acurácia dos modelos\n",
    "acuracias = {}"
   ]
  },
  {
   "cell_type": "markdown",
   "id": "94865428",
   "metadata": {},
   "source": [
    "**5.1. Logistic Regression**"
   ]
  },
  {
   "cell_type": "code",
   "execution_count": 20,
   "id": "075f9c36",
   "metadata": {},
   "outputs": [
    {
     "name": "stdout",
     "output_type": "stream",
     "text": [
      "Acurácia Logistic Regression: 98.33%\n"
     ]
    }
   ],
   "source": [
    "model_lr = LogisticRegression(max_iter=500)\n",
    "model_lr.fit(X_train,y_train)\n",
    "\n",
    "y_pred = model_lr.predict(X_test)\n",
    "acc = model_lr.score(X_test,y_test)*100\n",
    "\n",
    "acuracias['Logistic Regression'] = acc\n",
    "print(\"Acurácia Logistic Regression: {:.2f}%\".format(acc))"
   ]
  },
  {
   "cell_type": "markdown",
   "id": "7c60d772",
   "metadata": {},
   "source": [
    "**5.2 Decision Tree**"
   ]
  },
  {
   "cell_type": "code",
   "execution_count": 21,
   "id": "afe5d76d",
   "metadata": {},
   "outputs": [
    {
     "name": "stdout",
     "output_type": "stream",
     "text": [
      "Acurácia Decision Tree: 98.53%\n"
     ]
    }
   ],
   "source": [
    "model_dtc = DecisionTreeClassifier(random_state=42)\n",
    "model_dtc.fit(X_train, y_train)\n",
    "\n",
    "acc = model_dtc.score(X_test, y_test)*100\n",
    "acuracias['Decision Tree'] = acc\n",
    "print(\"Acurácia Decision Tree: {:.2f}%\".format(acc))"
   ]
  },
  {
   "cell_type": "markdown",
   "id": "0641b424",
   "metadata": {},
   "source": [
    "**5.3 Support Vector Machines (SVM)**"
   ]
  },
  {
   "cell_type": "code",
   "execution_count": 22,
   "id": "77e49dfb",
   "metadata": {},
   "outputs": [
    {
     "name": "stdout",
     "output_type": "stream",
     "text": [
      "Acurácia SVM: 98.56%\n"
     ]
    }
   ],
   "source": [
    "model_svm = SVC(random_state = 42)\n",
    "model_svm.fit(X_train, y_train)\n",
    "\n",
    "acc = model_svm.score(X_test,y_test)*100\n",
    "acuracias['SVM'] = acc\n",
    "print(\"Acurácia SVM: {:.2f}%\".format(acc))"
   ]
  },
  {
   "cell_type": "markdown",
   "id": "85f5ecb6",
   "metadata": {},
   "source": [
    "**5.4 Naive Bayes**"
   ]
  },
  {
   "cell_type": "code",
   "execution_count": 23,
   "id": "ed6eea21",
   "metadata": {},
   "outputs": [
    {
     "name": "stdout",
     "output_type": "stream",
     "text": [
      "Acurácia Naive Bayes: 52.58%\n"
     ]
    }
   ],
   "source": [
    "model_nb = GaussianNB()\n",
    "model_nb.fit(X_train, y_train)\n",
    "\n",
    "acc = model_nb.score(X_test,y_test)*100\n",
    "acuracias['Naive Bayes'] = acc\n",
    "print(\"Acurácia Naive Bayes: {:.2f}%\".format(acc))"
   ]
  },
  {
   "cell_type": "markdown",
   "id": "2c99815c",
   "metadata": {},
   "source": [
    "**5.5 KNN Neighbours**"
   ]
  },
  {
   "cell_type": "code",
   "execution_count": 24,
   "id": "c7cc2a15",
   "metadata": {},
   "outputs": [
    {
     "name": "stdout",
     "output_type": "stream",
     "text": [
      "Acurácia KNN: 97.71%\n"
     ]
    }
   ],
   "source": [
    "model_knn = KNeighborsClassifier(n_neighbors = 3) \n",
    "model_knn.fit(X_train, y_train)\n",
    "\n",
    "acc = model_knn.score(X_test, y_test)*100\n",
    "acuracias['KNN'] = acc\n",
    "print(\"Acurácia KNN: {:.2f}%\".format(acc))"
   ]
  },
  {
   "cell_type": "markdown",
   "id": "bea0bf9a",
   "metadata": {},
   "source": [
    "**5.6 XGBoost** "
   ]
  },
  {
   "cell_type": "code",
   "execution_count": 25,
   "id": "03e8f556",
   "metadata": {},
   "outputs": [
    {
     "name": "stdout",
     "output_type": "stream",
     "text": [
      "Acurácia XGBoost: 99.31%\n"
     ]
    }
   ],
   "source": [
    "xgbModel = XGBClassifier(n_estimators=50,          \n",
    "                         max_depth=4,              \n",
    "                         learning_rate=0.1,        \n",
    "                         objective='reg:logistic',\n",
    "                         random_state=42) \n",
    "xgbModel.fit(X_train, y_train)\n",
    "\n",
    "preds = xgbModel.predict(X_test)\n",
    "\n",
    "acc = accuracy_score(y_test, preds)*100\n",
    "acuracias[\"XGBoost\"] = acc \n",
    "print(\"Acurácia XGBoost: {:.2f}%\".format(acc))"
   ]
  },
  {
   "cell_type": "markdown",
   "id": "ad9f19d5",
   "metadata": {},
   "source": [
    "**5.7 Apresentando resultados** "
   ]
  },
  {
   "cell_type": "code",
   "execution_count": 26,
   "id": "15733dde",
   "metadata": {},
   "outputs": [
    {
     "data": {
      "image/png": "[encoded data removed]",
      "text/plain": [
       "<Figure size 1152x648 with 1 Axes>"
      ]
     },
     "metadata": {
      "needs_background": "light"
     },
     "output_type": "display_data"
    }
   ],
   "source": [
    "# Ordena os valores do maior para o menor\n",
    "acuracias_ordenadas = dict(sorted(acuracias.items(), key=operator.itemgetter(1), reverse=True))\n",
    " \n",
    "# Prepara gráfico de barras\n",
    "fig, ax = plt.subplots(figsize =(16, 9))\n",
    "ax.set(xlim=[50, 100])\n",
    "ax.barh(list(acuracias_ordenadas), list(acuracias_ordenadas.values()))\n",
    " \n",
    "# Remove axes splines\n",
    "for s in ['top', 'bottom', 'left', 'right']:\n",
    "    ax.spines[s].set_visible(False)\n",
    " \n",
    "# Remove x, y Ticks\n",
    "ax.xaxis.set_ticks_position('none')\n",
    "ax.yaxis.set_ticks_position('none')\n",
    " \n",
    "# Add padding between axes and labels\n",
    "ax.xaxis.set_tick_params(pad = 5)\n",
    "ax.yaxis.set_tick_params(pad = 10)\n",
    " \n",
    "# Add x, y gridlines\n",
    "ax.grid(color ='grey',\n",
    "        linestyle ='-.', linewidth = 0.5,\n",
    "        alpha = 0.2)\n",
    " \n",
    "ax.set_facecolor(\"white\")\n",
    " \n",
    "ax.invert_yaxis()\n",
    " \n",
    "# Acrescenta os valores ao gráfico\n",
    "for i in ax.patches:\n",
    "    plt.text(i.get_width()+0.2, i.get_y()+0.5, \n",
    "             str(round((i.get_width()), 2)),\n",
    "             fontsize = 10, fontweight ='bold',\n",
    "             color ='grey')\n",
    " \n",
    "# Título \n",
    "ax.set_title('Modelos e suas acurácias', loc ='left', )\n",
    "\n",
    "# Salva a figura para posterior visualização\n",
    "plt.savefig('acuracias.png', dpi=300)\n",
    "\n",
    "# Apresenta a figura\n",
    "plt.show() "
   ]
  },
  {
   "cell_type": "markdown",
   "id": "3a32a09f",
   "metadata": {},
   "source": [
    "# Etapa 6 - Importância das features com o melhor modelo (XGBoost)"
   ]
  },
  {
   "cell_type": "code",
   "execution_count": 27,
   "id": "208c4d7b",
   "metadata": {},
   "outputs": [
    {
     "data": {
      "text/plain": [
       "<Axes: title={'center': 'Feature importance'}, xlabel='F score', ylabel='Features'>"
      ]
     },
     "execution_count": 27,
     "metadata": {},
     "output_type": "execute_result"
    },
    {
     "data": {
      "image/png": "[encoded data removed]",
      "text/plain": [
       "<Figure size 432x288 with 1 Axes>"
      ]
     },
     "metadata": {
      "needs_background": "light"
     },
     "output_type": "display_data"
    }
   ],
   "source": [
    "# Apresentando as 10 mais importantes features\n",
    "plot_importance(xgbModel, max_num_features=10)"
   ]
  },
  {
   "cell_type": "markdown",
   "id": "7543c35c",
   "metadata": {},
   "source": [
    "Atributos principais:\n",
    "* redshift\n",
    "* psfMag_u\n",
    "* petroFlux_g\n"
   ]
  },
  {
   "cell_type": "markdown",
   "id": "99536756",
   "metadata": {},
   "source": [
    "# 6.1 - Análise EDA das principais features"
   ]
  },
  {
   "cell_type": "code",
   "execution_count": 28,
   "id": "c329aa4b",
   "metadata": {},
   "outputs": [],
   "source": [
    "num_columns=['redshift', 'psfMag_u', 'petroFlux_g']\n",
    "df_pf = df[['redshift', 'psfMag_u', 'petroFlux_g', 'class']]"
   ]
  },
  {
   "cell_type": "code",
   "execution_count": 29,
   "id": "a54cd5b2",
   "metadata": {},
   "outputs": [
    {
     "data": {
      "text/html": [
       "<div>\n",
       "<style scoped>\n",
       "    .dataframe tbody tr th:only-of-type {\n",
       "        vertical-align: middle;\n",
       "    }\n",
       "\n",
       "    .dataframe tbody tr th {\n",
       "        vertical-align: top;\n",
       "    }\n",
       "\n",
       "    .dataframe thead th {\n",
       "        text-align: right;\n",
       "    }\n",
       "</style>\n",
       "<table border=\"1\" class=\"dataframe\">\n",
       "  <thead>\n",
       "    <tr style=\"text-align: right;\">\n",
       "      <th></th>\n",
       "      <th>redshift</th>\n",
       "      <th>psfMag_u</th>\n",
       "      <th>petroFlux_g</th>\n",
       "      <th>class</th>\n",
       "    </tr>\n",
       "  </thead>\n",
       "  <tbody>\n",
       "    <tr>\n",
       "      <th>count</th>\n",
       "      <td>100000.000000</td>\n",
       "      <td>100000.000000</td>\n",
       "      <td>100000.000000</td>\n",
       "      <td>100000.000000</td>\n",
       "    </tr>\n",
       "    <tr>\n",
       "      <th>mean</th>\n",
       "      <td>0.168441</td>\n",
       "      <td>19.592174</td>\n",
       "      <td>175.000342</td>\n",
       "      <td>0.848890</td>\n",
       "    </tr>\n",
       "    <tr>\n",
       "      <th>std</th>\n",
       "      <td>0.434285</td>\n",
       "      <td>1.320291</td>\n",
       "      <td>357.402958</td>\n",
       "      <td>0.934304</td>\n",
       "    </tr>\n",
       "    <tr>\n",
       "      <th>min</th>\n",
       "      <td>-0.004268</td>\n",
       "      <td>13.253570</td>\n",
       "      <td>-396.729600</td>\n",
       "      <td>0.000000</td>\n",
       "    </tr>\n",
       "    <tr>\n",
       "      <th>25%</th>\n",
       "      <td>0.000065</td>\n",
       "      <td>18.751895</td>\n",
       "      <td>58.397385</td>\n",
       "      <td>0.000000</td>\n",
       "    </tr>\n",
       "    <tr>\n",
       "      <th>50%</th>\n",
       "      <td>0.048772</td>\n",
       "      <td>19.560930</td>\n",
       "      <td>93.950580</td>\n",
       "      <td>0.000000</td>\n",
       "    </tr>\n",
       "    <tr>\n",
       "      <th>75%</th>\n",
       "      <td>0.096680</td>\n",
       "      <td>20.660875</td>\n",
       "      <td>173.442500</td>\n",
       "      <td>2.000000</td>\n",
       "    </tr>\n",
       "    <tr>\n",
       "      <th>max</th>\n",
       "      <td>6.990327</td>\n",
       "      <td>26.369840</td>\n",
       "      <td>21686.390000</td>\n",
       "      <td>2.000000</td>\n",
       "    </tr>\n",
       "  </tbody>\n",
       "</table>\n",
       "</div>"
      ],
      "text/plain": [
       "            redshift       psfMag_u    petroFlux_g          class\n",
       "count  100000.000000  100000.000000  100000.000000  100000.000000\n",
       "mean        0.168441      19.592174     175.000342       0.848890\n",
       "std         0.434285       1.320291     357.402958       0.934304\n",
       "min        -0.004268      13.253570    -396.729600       0.000000\n",
       "25%         0.000065      18.751895      58.397385       0.000000\n",
       "50%         0.048772      19.560930      93.950580       0.000000\n",
       "75%         0.096680      20.660875     173.442500       2.000000\n",
       "max         6.990327      26.369840   21686.390000       2.000000"
      ]
     },
     "execution_count": 29,
     "metadata": {},
     "output_type": "execute_result"
    }
   ],
   "source": [
    "# Apresenta alguns dados estatísticos\n",
    "df_pf.describe()"
   ]
  },
  {
   "cell_type": "code",
   "execution_count": 30,
   "id": "1ec13461",
   "metadata": {},
   "outputs": [
    {
     "data": {
      "text/html": [
       "<div>\n",
       "<style scoped>\n",
       "    .dataframe tbody tr th:only-of-type {\n",
       "        vertical-align: middle;\n",
       "    }\n",
       "\n",
       "    .dataframe tbody tr th {\n",
       "        vertical-align: top;\n",
       "    }\n",
       "\n",
       "    .dataframe thead th {\n",
       "        text-align: right;\n",
       "    }\n",
       "</style>\n",
       "<table border=\"1\" class=\"dataframe\">\n",
       "  <thead>\n",
       "    <tr style=\"text-align: right;\">\n",
       "      <th></th>\n",
       "      <th>redshift</th>\n",
       "      <th>psfMag_u</th>\n",
       "      <th>petroFlux_g</th>\n",
       "    </tr>\n",
       "    <tr>\n",
       "      <th>class</th>\n",
       "      <th></th>\n",
       "      <th></th>\n",
       "      <th></th>\n",
       "    </tr>\n",
       "  </thead>\n",
       "  <tbody>\n",
       "    <tr>\n",
       "      <th>0</th>\n",
       "      <td>0.079167</td>\n",
       "      <td>20.569081</td>\n",
       "      <td>168.355278</td>\n",
       "    </tr>\n",
       "    <tr>\n",
       "      <th>1</th>\n",
       "      <td>1.218407</td>\n",
       "      <td>19.046810</td>\n",
       "      <td>42.728355</td>\n",
       "    </tr>\n",
       "    <tr>\n",
       "      <th>2</th>\n",
       "      <td>-0.000043</td>\n",
       "      <td>18.371482</td>\n",
       "      <td>221.378674</td>\n",
       "    </tr>\n",
       "  </tbody>\n",
       "</table>\n",
       "</div>"
      ],
      "text/plain": [
       "       redshift   psfMag_u  petroFlux_g\n",
       "class                                  \n",
       "0      0.079167  20.569081   168.355278\n",
       "1      1.218407  19.046810    42.728355\n",
       "2     -0.000043  18.371482   221.378674"
      ]
     },
     "execution_count": 30,
     "metadata": {},
     "output_type": "execute_result"
    }
   ],
   "source": [
    "# Calcula a média por classe\n",
    "round(df_pf.groupby(\"class\").mean(), 6)"
   ]
  },
  {
   "cell_type": "markdown",
   "id": "01c67bb4",
   "metadata": {},
   "source": [
    "Análises Gráficas"
   ]
  },
  {
   "cell_type": "code",
   "execution_count": 31,
   "id": "43808504",
   "metadata": {},
   "outputs": [
    {
     "data": {
      "image/png": "[encoded data removed]",
      "text/plain": [
       "<Figure size 720x720 with 4 Axes>"
      ]
     },
     "metadata": {
      "needs_background": "light"
     },
     "output_type": "display_data"
    },
    {
     "data": {
      "image/png": "[encoded data removed]",
      "text/plain": [
       "<Figure size 720x720 with 4 Axes>"
      ]
     },
     "metadata": {
      "needs_background": "light"
     },
     "output_type": "display_data"
    },
    {
     "data": {
      "image/png": "[encoded data removed]",
      "text/plain": [
       "<Figure size 720x720 with 4 Axes>"
      ]
     },
     "metadata": {
      "needs_background": "light"
     },
     "output_type": "display_data"
    }
   ],
   "source": [
    "\n",
    "for i,c in enumerate(num_columns):    \n",
    "    sns.jointplot(x=c, y='class', data=df_pf, kind='kde', palette = \"dict\", color='seagreen', cbar=True, shade=True, height=10)\n",
    "    plt.xlabel(c)\n",
    "    plt.ylabel('class')\n",
    "    plt.title(c,fontsize=10)"
   ]
  },
  {
   "cell_type": "code",
   "execution_count": 32,
   "id": "8b9f6a2f",
   "metadata": {},
   "outputs": [
    {
     "data": {
      "text/plain": [
       "<Figure size 1440x360 with 0 Axes>"
      ]
     },
     "metadata": {},
     "output_type": "display_data"
    },
    {
     "data": {
      "image/png": "[encoded data removed]",
      "text/plain": [
       "<Figure size 360x360 with 1 Axes>"
      ]
     },
     "metadata": {},
     "output_type": "display_data"
    },
    {
     "data": {
      "text/plain": [
       "<Figure size 1440x360 with 0 Axes>"
      ]
     },
     "metadata": {},
     "output_type": "display_data"
    },
    {
     "data": {
      "image/png": "[encoded data removed]",
      "text/plain": [
       "<Figure size 360x360 with 1 Axes>"
      ]
     },
     "metadata": {},
     "output_type": "display_data"
    },
    {
     "data": {
      "text/plain": [
       "<Figure size 1440x360 with 0 Axes>"
      ]
     },
     "metadata": {},
     "output_type": "display_data"
    },
    {
     "data": {
      "image/png": "[encoded data removed]",
      "text/plain": [
       "<Figure size 360x360 with 1 Axes>"
      ]
     },
     "metadata": {},
     "output_type": "display_data"
    }
   ],
   "source": [
    "for i,c in enumerate(num_columns):    \n",
    "    plt.figure(figsize=(20,5))\n",
    "    sns.set_style('darkgrid')\n",
    "    sns.displot(df[c])"
   ]
  },
  {
   "cell_type": "code",
   "execution_count": 33,
   "id": "9c42c8bd",
   "metadata": {},
   "outputs": [
    {
     "data": {
      "text/plain": [
       "<Figure size 576x576 with 0 Axes>"
      ]
     },
     "metadata": {},
     "output_type": "display_data"
    },
    {
     "data": {
      "image/png": "[encoded data removed]",
      "text/plain": [
       "<Figure size 581.625x540 with 12 Axes>"
      ]
     },
     "metadata": {},
     "output_type": "display_data"
    }
   ],
   "source": [
    "plt.figure(figsize=(8, 8))\n",
    "sns.pairplot(df_pf, hue='class', palette='Set2')\n",
    "plt.show()\n"
   ]
  },
  {
   "cell_type": "markdown",
   "id": "1579a53f",
   "metadata": {},
   "source": [
    "Analisando os gráficos, vemos uma distinção muito clara entre as classes:\n",
    "\n",
    "* redshift - de forma geral, quanto maior o redshift, mais distante está o objeto.\n",
    "* psfMag_u - apresenta a magnitude (brilho) do objeto especificamente na banda u (ultravioleta). As 3 diferentes classe têm valores bastante característicos desse indicador.\n",
    "* petroFlux_g - semelhante a psfMag, mede o fluxo total recebido pelo objeto. As estrelas, por estarem mais próximas, possuem um valor maior. Os quasares, um valor menor\n"
   ]
  }
 ],
 "metadata": {
  "kernelspec": {
   "display_name": "Python 3",
   "language": "python",
   "name": "python3"
  },
  "language_info": {
   "codemirror_mode": {
    "name": "ipython",
    "version": 3
   },
   "file_extension": ".py",
   "mimetype": "text/x-python",
   "name": "python",
   "nbconvert_exporter": "python",
   "pygments_lexer": "ipython3",
   "version": "3.9.12"
  },
  "papermill": {
   "default_parameters": {},
   "duration": 38.068454,
   "end_time": "2023-10-02T23:27:27.737243",
   "environment_variables": {},
   "exception": null,
   "input_path": "__notebook__.ipynb",
   "output_path": "__notebook__.ipynb",
   "parameters": {},
   "start_time": "2023-10-02T23:26:49.668789",
   "version": "2.4.0"
  }
 },
 "nbformat": 4,
 "nbformat_minor": 5
}
